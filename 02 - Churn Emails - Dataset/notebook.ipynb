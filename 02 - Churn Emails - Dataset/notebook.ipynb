{
 "cells": [
  {
   "cell_type": "markdown",
   "metadata": {},
   "source": [
    "## Count the Number of Lines\n",
    "\n",
    "If we know the file is relatively small compared to the size of our main memory, we can read the whole file into one string using the **_read_** method on the file handle.\n",
    "\n",
    "- Define a function **_number_of_lines_**\n",
    "- Open the file **_mbox-short.txt_** which is located at **_mbox-short.txt_**\n",
    "- Read the file into one string by using **_read_** method on file handle\n",
    "- Write logic to count the number of lines\n",
    "- Return the count of the number of lines"
   ]
  },
  {
   "cell_type": "code",
   "execution_count": 1,
   "metadata": {},
   "outputs": [],
   "source": [
    "f = open(\"mbox-short.txt\")\n",
    "finput = f.read()\n",
    "f.close()"
   ]
  },
  {
   "cell_type": "code",
   "execution_count": 2,
   "metadata": {},
   "outputs": [],
   "source": [
    "def number_of_lines():\n",
    "    count = 0\n",
    "    for line in finput:\n",
    "        if line == \"\\n\":\n",
    "            count += 1\n",
    "    return count"
   ]
  },
  {
   "cell_type": "code",
   "execution_count": 3,
   "metadata": {},
   "outputs": [
    {
     "data": {
      "text/plain": [
       "1910"
      ]
     },
     "execution_count": 3,
     "metadata": {},
     "output_type": "execute_result"
    }
   ],
   "source": [
    "number_of_lines()"
   ]
  },
  {
   "cell_type": "markdown",
   "metadata": {},
   "source": [
    "## Count the Number of Subject Lines\n",
    "\n",
    "We use the string method **_startswith_** to select only those lines with the desired prefix.\n",
    "\n",
    "Write a function **_count_number_of_lines_** which returns the count of the number of lines starting with **_Subject:_** in the file **_mbox-short.txt_**"
   ]
  },
  {
   "cell_type": "code",
   "execution_count": 4,
   "metadata": {},
   "outputs": [],
   "source": [
    "def count_number_of_lines():\n",
    "    f = open(\"mbox-short.txt\")\n",
    "    count = 0\n",
    "    for line in f:\n",
    "        line = line.rstrip() # Remove new line characters from right\n",
    "        if line.startswith('Subject:'):\n",
    "            count += 1\n",
    "    return count"
   ]
  },
  {
   "cell_type": "code",
   "execution_count": 5,
   "metadata": {},
   "outputs": [
    {
     "data": {
      "text/plain": [
       "27"
      ]
     },
     "execution_count": 5,
     "metadata": {},
     "output_type": "execute_result"
    }
   ],
   "source": [
    "count_number_of_lines()"
   ]
  },
  {
   "cell_type": "markdown",
   "metadata": {},
   "source": [
    "## Find Average Spam Confidence\n",
    "\n",
    "- Define a function **_average_spam_confidence_** which calculates the average spam confidence and returns it\n",
    "- Open the file mbox-short.txt which is located at /cxldata/datasets/project/mbox-short.txt\n",
    "- Loop through the file handle\n",
    "- Select only those lines starts with **_X-DSPAM-Confidence:_**\n",
    "- Split the lines at **_:_** and take the float value which is spam confidence\n",
    "- Find the average of this spam confidence in the entire file and return it."
   ]
  },
  {
   "cell_type": "code",
   "execution_count": 6,
   "metadata": {},
   "outputs": [],
   "source": [
    "def average_spam_confidence():\n",
    "    f = open(\"mbox-short.txt\")\n",
    "    total = 0\n",
    "    count = 0\n",
    "    for line in f:\n",
    "        line = line.rstrip() # Remove new line characters from right\n",
    "        if line.startswith('X-DSPAM-Confidence:'):\n",
    "            x = line.split(':')\n",
    "            count += 1\n",
    "            total += float(x[1])\n",
    "    return total/count"
   ]
  },
  {
   "cell_type": "code",
   "execution_count": 7,
   "metadata": {},
   "outputs": [
    {
     "data": {
      "text/plain": [
       "0.7507185185185187"
      ]
     },
     "execution_count": 7,
     "metadata": {},
     "output_type": "execute_result"
    }
   ],
   "source": [
    "average_spam_confidence()"
   ]
  },
  {
   "cell_type": "markdown",
   "metadata": {},
   "source": [
    "## Find Which Day of the Week the Email was sent\n",
    "\n",
    "Write a function **_find_email_sent_days_** which reads the file **_mbox-short.txt_** and categorizes each mail message by which day of the week the email was sent.\n",
    "\n",
    "To do this do the following:\n",
    "\n",
    "- Open the file and read it line by line\n",
    "- Look for lines that start with **_\"From \"_**\n",
    "- For those lines which start from **_\"From \"_**, then look for the **third word** and keep a running **count** of each of the **days of the week**. How do you find the day of the week, is an exercise for you.\n",
    "- At the end of the program return the contents of your **_dictionary_** (order does not matter)\n",
    "\n",
    "**Sample Lines from the file:**\n",
    "\n",
    "From stephen.marquard@uct.ac.za Sat Jan  5 10:14:16 2008<br>\n",
    "From stephen.marquard@uct.ac.za Sat Jan  5 15:14:16 2008<br>\n",
    "From stephen.marquard@uct.ac.za Sun Jan  6 09:14:16 2008"
   ]
  },
  {
   "cell_type": "code",
   "execution_count": 8,
   "metadata": {},
   "outputs": [],
   "source": [
    "def find_email_sent_days():\n",
    "    f = open(\"mbox-short.txt\")\n",
    "    l = list()\n",
    "    d = dict()\n",
    "    for line in f:\n",
    "        if line.startswith('From '):\n",
    "            l.append(line.split()[2])\n",
    "    for i in l:\n",
    "        d[i] = l.count(i)\n",
    "    return d"
   ]
  },
  {
   "cell_type": "code",
   "execution_count": 9,
   "metadata": {},
   "outputs": [
    {
     "data": {
      "text/plain": [
       "{'Sat': 1, 'Fri': 20, 'Thu': 6}"
      ]
     },
     "execution_count": 9,
     "metadata": {},
     "output_type": "execute_result"
    }
   ],
   "source": [
    "find_email_sent_days()"
   ]
  },
  {
   "cell_type": "markdown",
   "metadata": {},
   "source": [
    "## Count Number of Messages From Each Email Address\n",
    "\n",
    "Write a function **_count_message_from_email_** which reads the file **_mbox-short.txt_**.\n",
    "\n",
    "This function builds a histogram using a dictionary to count how many messages have come from each email address and returns the dictionary."
   ]
  },
  {
   "cell_type": "code",
   "execution_count": 10,
   "metadata": {},
   "outputs": [],
   "source": [
    "def count_message_from_email():\n",
    "    f = open(\"mbox-short.txt\")\n",
    "    l = list()\n",
    "    d = dict()\n",
    "    for line in f:\n",
    "        if line.startswith('From '):\n",
    "            l.append(line.split()[1])\n",
    "    for i in l:\n",
    "        d[i] = l.count(i)\n",
    "    return d"
   ]
  },
  {
   "cell_type": "code",
   "execution_count": 11,
   "metadata": {},
   "outputs": [
    {
     "data": {
      "text/plain": [
       "{'stephen.marquard@uct.ac.za': 2,\n",
       " 'louis@media.berkeley.edu': 3,\n",
       " 'zqian@umich.edu': 4,\n",
       " 'rjlowe@iupui.edu': 2,\n",
       " 'cwen@iupui.edu': 5,\n",
       " 'gsilver@umich.edu': 3,\n",
       " 'wagnermr@iupui.edu': 1,\n",
       " 'antranig@caret.cam.ac.uk': 1,\n",
       " 'gopal.ramasammycook@gmail.com': 1,\n",
       " 'david.horwitz@uct.ac.za': 4,\n",
       " 'ray@media.berkeley.edu': 1}"
      ]
     },
     "execution_count": 11,
     "metadata": {},
     "output_type": "execute_result"
    }
   ],
   "source": [
    "count_message_from_email()"
   ]
  },
  {
   "cell_type": "markdown",
   "metadata": {},
   "source": [
    "## Count Number of Messages From Each Domain\n",
    "\n",
    "Write a function **_count_message_from_domain_** which reads the file **_mbox-short.txt_**.\n",
    "\n",
    "This function builds a histogram using a dictionary to count how many messages have come from each domain(Instead of from email address), and returns the dictionary."
   ]
  },
  {
   "cell_type": "code",
   "execution_count": 12,
   "metadata": {},
   "outputs": [],
   "source": [
    "def count_message_from_domain():\n",
    "    f = open(\"mbox-short.txt\")\n",
    "    l = list()\n",
    "    d = dict()\n",
    "    for line in f:\n",
    "        if line.startswith('From '):\n",
    "            l.append((line.split()[1]).split('@')[1])\n",
    "    for i in l:\n",
    "        d[i] = l.count(i)\n",
    "    return d"
   ]
  },
  {
   "cell_type": "code",
   "execution_count": 13,
   "metadata": {},
   "outputs": [
    {
     "data": {
      "text/plain": [
       "{'uct.ac.za': 6,\n",
       " 'media.berkeley.edu': 4,\n",
       " 'umich.edu': 7,\n",
       " 'iupui.edu': 8,\n",
       " 'caret.cam.ac.uk': 1,\n",
       " 'gmail.com': 1}"
      ]
     },
     "execution_count": 13,
     "metadata": {},
     "output_type": "execute_result"
    }
   ],
   "source": [
    "count_message_from_domain()"
   ]
  }
 ],
 "metadata": {
  "kernelspec": {
   "display_name": "Python 3",
   "language": "python",
   "name": "python3"
  },
  "language_info": {
   "codemirror_mode": {
    "name": "ipython",
    "version": 3
   },
   "file_extension": ".py",
   "mimetype": "text/x-python",
   "name": "python",
   "nbconvert_exporter": "python",
   "pygments_lexer": "ipython3",
   "version": "3.8.5"
  },
  "toc": {
   "base_numbering": 1,
   "nav_menu": {},
   "number_sections": true,
   "sideBar": true,
   "skip_h1_title": false,
   "title_cell": "Table of Contents",
   "title_sidebar": "Contents",
   "toc_cell": false,
   "toc_position": {},
   "toc_section_display": true,
   "toc_window_display": false
  }
 },
 "nbformat": 4,
 "nbformat_minor": 2
}
